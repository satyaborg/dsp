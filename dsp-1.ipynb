{
 "cells": [
  {
   "cell_type": "markdown",
   "metadata": {},
   "source": [
    "## Digital Signal Processing\n",
    "\n",
    "From : https://www.coursera.org/learn/dsp1\n",
    "\n",
    "### Introduction"
   ]
  },
  {
   "cell_type": "markdown",
   "metadata": {},
   "source": [
    "- Signal is a description of the evolution of a physical phenomenon\n",
    "    - weather $\\rightarrow$ temperature recorded on a day\n",
    "    - Sound $\\rightarrow$ Pressure measured at a point in space\n",
    "    - sound $\\rightarrow$ magnetic deviation in tape\n",
    "    - light intensity $\\rightarrow$ gray level on paper i.e BW images\n",
    "\n",
    "- Generally with signals, we : Analyze (understand) or Synthesize (create)\n",
    "- Degrees of freedom = things we can choose or control\n",
    "- Analog model : What is the $f(t)$ of a signal?\n",
    "\n",
    "We use the digital values of recordings $\\rightarrow$ as approximation or idealized version of some physical phenomenon.\n",
    "- For DS, the numbers are integers\n",
    "- Which means we can encode signals in binary : $\\{0,1\\}$!\n",
    "\n",
    "### Digital Paradigm\n",
    "\n",
    "- Discrete time \n",
    "- Discrete Amplitude\n",
    "\n",
    "Imagine : A 2D graph of discrete values that a signal can take. A real, continuous signal broken down into discrete parts for representing on such a graph.\n",
    "\n",
    "### What is time?\n",
    "\n",
    "The dichotomy paradox (Zeno of Elea)\n",
    "\n",
    "- A set of measurements which are finite\n",
    "- Analog (continuous) model of reality vs Digital (discrete) model of reality\n",
    "- Discrete models are easy to use computationally.\n",
    "\n",
    "$$\n",
    "Analog = f : R \\rightarrow V \\\\\n",
    "Digital = f : Z \\rightarrow V\n",
    "$$\n",
    "Mappings of set of integers to set of values (set of real numbers or just integers in case of digital)\n",
    "\n",
    "$$x[n] = .., 1.23, -0.32,..$$\n",
    "Here $n$ can be time but more generally it is a dimensionless quantity.\n"
   ]
  },
  {
   "cell_type": "markdown",
   "metadata": {},
   "source": [
    "- Nyquist and Shannon's Sampling Theorem : Under very mild conditions, the contiuous and discrete time representations are equivalent.\n",
    "- Sinc (sine cardinal) : Sampling function\n",
    "- The conditions are given by the Fourier transformation\n",
    "- Sampling interval : A space between measurements when we convert function to sequences\n",
    "\n",
    "Advantages are in storage, processing and transmission : Since everything can be encoded as integers!"
   ]
  },
  {
   "cell_type": "markdown",
   "metadata": {},
   "source": [
    "### Data Transmission \n",
    "\n",
    "$$TX \\rightarrow Channel \\rightarrow RX$$\n",
    "Noise $\\sigma(t)$ is introduced and it corrupts a signal while it pass through a channel.\n",
    "\n",
    "- Attenuation : Reduction of the amplitude of the signal. Scaled by a gain $G$. \n",
    "- We amplify the signal at reciever to compensate for attenuation.\n",
    "$$ \\hat{x_1}(t) = G[x(t)/G + \\sigma(t)] = x(t) + G\\sigma(t)$$\n",
    "$G *\\sigma(t)$ is the *amplified* noise due to gain. Gives us the same amplitude as the original signal but with amplified noise as well.\n",
    "\n",
    "- Amplifier tries to undo the attenuation by scaling back with $G$\n",
    "- Repeaters in long cables (such as transoceanic cables) are introduced\n",
    "- Amplifier at each repeater tries to undo the attenuation and recover the original signal\n",
    "- **Threshold operator** tries to reconstruct the signal as best as possible\n",
    "- We can set 0 and 1 to correspond to different levels of voltage e.g. $0 \\rightarrow +5V$ and $1 \\rightarrow -5V$ \n",
    "- Quantized signal"
   ]
  },
  {
   "cell_type": "markdown",
   "metadata": {},
   "source": [
    "### Key ideas :\n",
    "- Discretization of time\n",
    "    - Samples replace idealized models\n",
    "    - Simple math replaces calculus\n",
    "- Discretization of values \n",
    "    - general purpose storage\n",
    "    - general purpose processing\n",
    "    - noise can be controlled"
   ]
  }
 ],
 "metadata": {
  "kernelspec": {
   "display_name": "dsp",
   "language": "python",
   "name": "dsp"
  },
  "language_info": {
   "codemirror_mode": {
    "name": "ipython",
    "version": 3
   },
   "file_extension": ".py",
   "mimetype": "text/x-python",
   "name": "python",
   "nbconvert_exporter": "python",
   "pygments_lexer": "ipython3",
   "version": "3.6.9-final"
  }
 },
 "nbformat": 4,
 "nbformat_minor": 4
}